{
  "nbformat": 4,
  "nbformat_minor": 0,
  "metadata": {
    "colab": {
      "name": "Untitled1.ipynb",
      "provenance": [],
      "collapsed_sections": []
    },
    "kernelspec": {
      "name": "python3",
      "display_name": "Python 3"
    },
    "language_info": {
      "name": "python"
    }
  },
  "cells": [
    {
      "cell_type": "code",
      "source": [
        "import random\n",
        "a=0\n",
        "b=0\n",
        "c=1\n",
        "print(\"Hello World Project\")\n",
        "print(\"Choices: \\n R- Rock \\n P- Paper \\n S- Scissor \\n\")\n",
        "\n",
        "name = input(\"Enter Player Name: \")\n",
        "while c<6:\n",
        "  print(\"\\n Round \", c)\n",
        "\n",
        "\n",
        "  choice = input(\"Enter choice: \")\n",
        "  if choice == 'R':\n",
        "    choice_inp = 'Rock'\n",
        "  elif choice == 'P':\n",
        "    choice_inp = 'Paper'\n",
        "  elif choice == 'S':\n",
        "    choice_inp = 'Scissors'   \n",
        "  else:\n",
        "    choice = input(\"Enter valid input: \")\n",
        "  print(name + \"'s choice is: \" + choice_inp)\n",
        "  \n",
        "  \n",
        "  if choice == 'R':\n",
        "    choice_inp_no = 1\n",
        "  elif choice == 'P':\n",
        "    choice_inp_no = 2\n",
        "  elif choice == 'S':\n",
        "    choice_inp_no = 3  \n",
        "  \n",
        "  \n",
        "  comp_choice = random.randint(1, 3)\n",
        "  while comp_choice == choice_inp_no:\n",
        "    comp_choice = random.randint(1, 3)\n",
        "    \n",
        "  \n",
        "  if comp_choice == 1:\n",
        "    comp_choice_inp = 'Rock'\n",
        "  elif comp_choice == 2:\n",
        "    comp_choice_inp = 'Paper' \n",
        "  else:\n",
        "    comp_choice_inp = 'Scissors'\n",
        "            \n",
        "  print(\"Computer choice is: \" + comp_choice_inp)\n",
        "  \n",
        "  \n",
        "  if((choice == 'R' and comp_choice == 2) or (choice == 'P' and comp_choice == 1 )):\n",
        "    print(\"Paper wins => \", end = \"\")\n",
        "    result = \"Paper\"\n",
        "            \n",
        "  elif((choice == 'R' and comp_choice == 3) or (choice == 'S' and comp_choice == 1)):\n",
        "    print(\"Rock wins => \", end = \"\")\n",
        "    result = \"Rock\"\n",
        "  elif((choice == 'P' and comp_choice == 3) or (choice == 'S' and comp_choice == 2)):\n",
        "    print(\"Scissor wins => \", end = \"\")\n",
        "    result = \"Scissors\"\n",
        "    \n",
        "  if result == choice_inp:\n",
        "    print(name + \" scored!\")\n",
        "    a+=1\n",
        "  else:\n",
        "    print(\"Computer scored!\")\n",
        "    b+=1\n",
        "  c+=1\n",
        "\n",
        "print (\"Score:\\n \"+name + \":\" ,a ) \n",
        "\n",
        "print( \" Computer:\" ,b)\n",
        "\n",
        " \n",
        "if a>b :\n",
        "  print(name + \" wins!!\")\n",
        "else:\n",
        "  print(\"Computer wins!!\")\n"
      ],
      "metadata": {
        "colab": {
          "base_uri": "https://localhost:8080/"
        },
        "id": "u2W1zNzB_rlU",
        "outputId": "d745a3ed-ea7b-4f08-82ab-a3ea4640885b"
      },
      "execution_count": null,
      "outputs": [
        {
          "output_type": "stream",
          "name": "stdout",
          "text": [
            "Hello World Project\n",
            "Choices: \n",
            " R- Rock \n",
            " P- Paper \n",
            " S- Scissor \n",
            "\n"
          ]
        }
      ]
    },
    {
      "cell_type": "code",
      "source": [
        ""
      ],
      "metadata": {
        "id": "mb-Yg36_E6dm"
      },
      "execution_count": null,
      "outputs": []
    }
  ]
}